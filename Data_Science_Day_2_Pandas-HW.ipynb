{
 "cells": [
  {
   "cell_type": "code",
   "execution_count": 6,
   "id": "f913f483",
   "metadata": {
    "scrolled": true
   },
   "outputs": [
    {
     "name": "stdout",
     "output_type": "stream",
     "text": [
      "Requirement already satisfied: pandas in c:\\programdata\\anaconda3\\lib\\site-packages (1.3.4)\n",
      "Requirement already satisfied: pytz>=2017.3 in c:\\programdata\\anaconda3\\lib\\site-packages (from pandas) (2021.3)\n",
      "Requirement already satisfied: python-dateutil>=2.7.3 in c:\\programdata\\anaconda3\\lib\\site-packages (from pandas) (2.8.2)\n",
      "Requirement already satisfied: numpy>=1.17.3 in c:\\programdata\\anaconda3\\lib\\site-packages (from pandas) (1.20.3)\n",
      "Requirement already satisfied: six>=1.5 in c:\\programdata\\anaconda3\\lib\\site-packages (from python-dateutil>=2.7.3->pandas) (1.16.0)\n"
     ]
    }
   ],
   "source": [
    "!pip install pandas\n",
    "import pandas as pd\n",
    "import numpy as np"
   ]
  },
  {
   "cell_type": "code",
   "execution_count": 29,
   "id": "92b7cae3",
   "metadata": {},
   "outputs": [],
   "source": [
    "# Homework Exercise #1 - Find the Total Number of Runs and RBIs for the Red Sox Get total number of home runs and RBI's"
   ]
  },
  {
   "cell_type": "code",
   "execution_count": 5,
   "id": "ff402b2b",
   "metadata": {},
   "outputs": [
    {
     "data": {
      "text/html": [
       "<div>\n",
       "<style scoped>\n",
       "    .dataframe tbody tr th:only-of-type {\n",
       "        vertical-align: middle;\n",
       "    }\n",
       "\n",
       "    .dataframe tbody tr th {\n",
       "        vertical-align: top;\n",
       "    }\n",
       "\n",
       "    .dataframe thead th {\n",
       "        text-align: right;\n",
       "    }\n",
       "</style>\n",
       "<table border=\"1\" class=\"dataframe\">\n",
       "  <thead>\n",
       "    <tr style=\"text-align: right;\">\n",
       "      <th></th>\n",
       "      <th>HR</th>\n",
       "      <th>RBI</th>\n",
       "    </tr>\n",
       "    <tr>\n",
       "      <th>TEAM</th>\n",
       "      <th></th>\n",
       "      <th></th>\n",
       "    </tr>\n",
       "  </thead>\n",
       "  <tbody>\n",
       "    <tr>\n",
       "      <th>BOS</th>\n",
       "      <td>14</td>\n",
       "      <td>19</td>\n",
       "    </tr>\n",
       "  </tbody>\n",
       "</table>\n",
       "</div>"
      ],
      "text/plain": [
       "      HR  RBI\n",
       "TEAM         \n",
       "BOS   14   19"
      ]
     },
     "execution_count": 5,
     "metadata": {},
     "output_type": "execute_result"
    }
   ],
   "source": [
    "\"\"\"\n",
    "1. using panda read_csv() method to read stats from files\n",
    "2. need a team col for '17 and 18'\n",
    "3. group by team col and HR, RBI's for '17 and '18\n",
    "\"\"\"\n",
    "\n",
    "#1\n",
    "team2017=pd.read_csv('../hw-day2-wk9/files/redsox_2017_hitting.txt')\n",
    "team2018=pd.read_csv('../hw-day2-wk9/files/redsox_2018_hitting.txt')\n",
    "\n",
    "#2\n",
    "team2017['TEAM']='BOS'\n",
    "team2018['TEAM']='BOS'\n",
    "\n",
    "#3\n",
    "new_team2017=team2017[['TEAM','HR','RBI']]\n",
    "new_team2017 = new_team2017.groupby('TEAM')[['HR','RBI']].nunique()\n",
    "new_team2017\n",
    "\n",
    "new_team2018=team2018[['TEAM','HR','RBI']]\n",
    "new_team2018 = new_team2018.groupby('TEAM')[['HR','RBI']].nunique()\n",
    "new_team2018\n",
    "\n"
   ]
  },
  {
   "cell_type": "code",
   "execution_count": 32,
   "id": "b713e11b",
   "metadata": {},
   "outputs": [],
   "source": [
    "# Homework Exercise #2 - Find the average age of runners in the 2017 Boston Marathon"
   ]
  },
  {
   "cell_type": "code",
   "execution_count": 7,
   "id": "df44661b",
   "metadata": {},
   "outputs": [
    {
     "data": {
      "text/plain": [
       "42.587731919727375"
      ]
     },
     "execution_count": 7,
     "metadata": {},
     "output_type": "execute_result"
    }
   ],
   "source": [
    "runner_age=pd.read_csv('../hw-day2-wk9/files/boston_marathon2017_edited.csv')\n",
    "runner_age.describe()\n",
    "runner_age[\"Age\"].mean()"
   ]
  },
  {
   "cell_type": "code",
   "execution_count": null,
   "id": "0dc03c62",
   "metadata": {},
   "outputs": [],
   "source": []
  }
 ],
 "metadata": {
  "kernelspec": {
   "display_name": "Python 3 (ipykernel)",
   "language": "python",
   "name": "python3"
  },
  "language_info": {
   "codemirror_mode": {
    "name": "ipython",
    "version": 3
   },
   "file_extension": ".py",
   "mimetype": "text/x-python",
   "name": "python",
   "nbconvert_exporter": "python",
   "pygments_lexer": "ipython3",
   "version": "3.9.7"
  }
 },
 "nbformat": 4,
 "nbformat_minor": 5
}
