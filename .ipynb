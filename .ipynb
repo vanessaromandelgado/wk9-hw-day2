{
 "cells": [
  {
   "cell_type": "code",
   "execution_count": 11,
   "id": "9b984e6e",
   "metadata": {},
   "outputs": [
    {
     "ename": "SyntaxError",
     "evalue": "invalid syntax (Temp/ipykernel_17716/3874011816.py, line 1)",
     "output_type": "error",
     "traceback": [
      "\u001b[1;36m  File \u001b[1;32m\"C:\\Users\\Austen\\AppData\\Local\\Temp/ipykernel_17716/3874011816.py\"\u001b[1;36m, line \u001b[1;32m1\u001b[0m\n\u001b[1;33m    <p>Find the average age of runners in the 2017 Boston Marathon</p>\u001b[0m\n\u001b[1;37m    ^\u001b[0m\n\u001b[1;31mSyntaxError\u001b[0m\u001b[1;31m:\u001b[0m invalid syntax\n"
     ]
    }
   ],
   "source": [
    "<p>Find the average age of runners in the 2017 Boston Marathon</p>"
   ]
  },
  {
   "cell_type": "code",
   "execution_count": 8,
   "id": "f8b5b491",
   "metadata": {},
   "outputs": [
    {
     "ename": "NameError",
     "evalue": "name 'pd' is not defined",
     "output_type": "error",
     "traceback": [
      "\u001b[1;31m---------------------------------------------------------------------------\u001b[0m",
      "\u001b[1;31mNameError\u001b[0m                                 Traceback (most recent call last)",
      "\u001b[1;32m~\\AppData\\Local\\Temp/ipykernel_17716/2009750950.py\u001b[0m in \u001b[0;36m<module>\u001b[1;34m\u001b[0m\n\u001b[0;32m      5\u001b[0m \"\"\"\n\u001b[0;32m      6\u001b[0m \u001b[1;33m\u001b[0m\u001b[0m\n\u001b[1;32m----> 7\u001b[1;33m \u001b[0mteam2017\u001b[0m\u001b[1;33m=\u001b[0m\u001b[0mpd\u001b[0m\u001b[1;33m.\u001b[0m\u001b[0mread_csv\u001b[0m\u001b[1;33m(\u001b[0m\u001b[1;34m'redsox_2017_hitting.csv'\u001b[0m\u001b[1;33m)\u001b[0m\u001b[1;33m\u001b[0m\u001b[1;33m\u001b[0m\u001b[0m\n\u001b[0m\u001b[0;32m      8\u001b[0m \u001b[0mteam2018\u001b[0m\u001b[1;33m=\u001b[0m\u001b[0mpd\u001b[0m\u001b[1;33m.\u001b[0m\u001b[0mread_csv\u001b[0m\u001b[1;33m(\u001b[0m\u001b[1;34m'redsox_2018_hitting.csv'\u001b[0m\u001b[1;33m)\u001b[0m\u001b[1;33m\u001b[0m\u001b[1;33m\u001b[0m\u001b[0m\n\u001b[0;32m      9\u001b[0m \u001b[1;33m\u001b[0m\u001b[0m\n",
      "\u001b[1;31mNameError\u001b[0m: name 'pd' is not defined"
     ]
    }
   ],
   "source": [
    "\"\"\"\n",
    "1. using panda read_csv() method to read stats from files\n",
    "2.\n",
    "3.\n",
    "\"\"\"\n",
    "\n",
    "team2017=pd.read_csv('redsox_2017_hitting.csv')\n",
    "team2018=pd.read_csv('redsox_2018_hitting.csv')\n",
    "\n",
    "team2017['TEAM']='BOS'\n",
    "team2018['TEAM']='BOS'\n",
    "\n",
    "new_team2017=team2018[['TEAM','HR','RBI']]\n",
    "new_team2017 = new_team2017.groupby('TEAM')[['HR','RBI']].nunique()\n",
    "new_team2017\n",
    "\n",
    "\n",
    "new_team2018=team2018[['TEAM','HR','RBI']]\n",
    "new_team2018 = new_team2018.groupby('TEAM')[['HR','RBI']].nunique()\n",
    "new_team2018\n",
    "\n",
    "runner_age=pd.read_csv('boston_marathon2017_edited.csv')\n",
    "runner_age.describe()\n",
    "runner_age[\"Age\"].mean()"
   ]
  },
  {
   "cell_type": "code",
   "execution_count": null,
   "id": "43e2903b",
   "metadata": {},
   "outputs": [],
   "source": []
  }
 ],
 "metadata": {
  "kernelspec": {
   "display_name": "Python 3 (ipykernel)",
   "language": "python",
   "name": "python3"
  },
  "language_info": {
   "codemirror_mode": {
    "name": "ipython",
    "version": 3
   },
   "file_extension": ".py",
   "mimetype": "text/x-python",
   "name": "python",
   "nbconvert_exporter": "python",
   "pygments_lexer": "ipython3",
   "version": "3.9.7"
  }
 },
 "nbformat": 4,
 "nbformat_minor": 5
}
